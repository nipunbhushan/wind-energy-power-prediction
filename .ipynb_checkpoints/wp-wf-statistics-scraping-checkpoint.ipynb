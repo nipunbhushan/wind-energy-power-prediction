{
 "cells": [
  {
   "cell_type": "code",
   "execution_count": null,
   "id": "53037a60",
   "metadata": {},
   "outputs": [],
   "source": [
    "from selenium import webdriver\n",
    "from selenium.webdriver.common.keys import Keys\n",
    "from selenium.webdriver.common.by import By\n",
    "from selenium.webdriver.support.ui import WebDriverWait\n",
    "from selenium.webdriver.common.action_chains import ActionChains\n",
    "from selenium.webdriver.support.ui import Select\n",
    "from selenium.webdriver.support import expected_conditions as EC\n",
    "from selenium.webdriver.chrome.options import Options"
   ]
  },
  {
   "cell_type": "code",
   "execution_count": null,
   "id": "22a387d7",
   "metadata": {},
   "outputs": [],
   "source": [
    "from bs4 import BeautifulSoup\n",
    "import requests\n",
    "import pandas as pd\n",
    "import re\n",
    "import pickle"
   ]
  },
  {
   "cell_type": "code",
   "execution_count": null,
   "id": "be93ee0f",
   "metadata": {},
   "outputs": [],
   "source": [
    "def scrap_windfarm_info_wp(base_url,xpath_selector,tagname_wf_name,wf_name_col_idx,tagname_wf_coord,wf_coord_col_idx):\n",
    "    windfarm_coords=[]\n",
    "    options = Options()\n",
    "    options.add_argument('--headless')\n",
    "    options.add_argument('--disable-gpu') \n",
    "    driver=webdriver.Chrome(driver_path,options=options)\n",
    "    driver.maximize_window()\n",
    "    actions = ActionChains(driver)\n",
    "    driver.get(base_url)\n",
    "    driver.implicitly_wait(5)\n",
    "    rows=driver.find_elements(By.XPATH,xpath_selector)\n",
    "    for row in rows:\n",
    "        try:\n",
    "            windfarm_name=row.find_elements(By.TAG_NAME, tagname_wf_name)[wf_name_col_idx].text\n",
    "            windfarm_coord=get_lat_lon_geohack(row.find_elements(By.TAG_NAME, tagname_wf_coord)[wf_coord_col_idx].find_elements(By.TAG_NAME, \"a\")[0].get_attribute('href'))\n",
    "            windfarm_coords.append((windfarm_name,windfarm_coord))\n",
    "            print(\"Processed for: \",windfarm_name,\"..\")\n",
    "        except:\n",
    "            continue\n",
    "    driver.close()\n",
    "    return windfarm_coords"
   ]
  },
  {
   "cell_type": "markdown",
   "id": "ac66adf6",
   "metadata": {},
   "source": [
    "Login to windpower portal"
   ]
  },
  {
   "cell_type": "code",
   "execution_count": null,
   "id": "348f7a4b",
   "metadata": {},
   "outputs": [],
   "source": [
    "driver_path=r\"C:\\Program Files (x86)\\chromedriver.exe\"\n",
    "email_id=\"nipun.bhushan@gmail.com\"\n",
    "password=\"FieldCedar08\"\n",
    "login_url=\"https://www.thewindpower.net/login_en.php\"\n",
    "base_url=\"https://www.thewindpower.net/statistics_countries_en.php\"\n",
    "options = Options()\n",
    "options.add_argument('user-agent=fake-useragent')\n",
    "driver = webdriver.Chrome(options=options)\n",
    "actions = ActionChains(driver)\n",
    "driver.get(login_url)\n",
    "driver.maximize_window()\n",
    "driver.implicitly_wait(5)\n",
    "driver.find_element(By.XPATH,'//*[@id=\"bloc_texte\"]/form/table/tbody/tr[2]/td/span/input').send_keys(email_id)\n",
    "driver.find_element(By.XPATH,'//*[@id=\"bloc_texte\"]/form/table/tbody/tr[4]/td/input').send_keys(password)\n",
    "driver.find_element(By.XPATH,'//*[@id=\"bloc_texte\"]/form/table/tbody/tr[6]/td/input').click()\n",
    "driver.implicitly_wait(5)\n",
    "driver.get(base_url)\n",
    "//*[@id=\"bloc_texte\"]/table[3]/tbody/tr[1]\n",
    "//*[@id=\"bloc_texte\"]/table[3]/tbody/tr[1]/td[11]"
   ]
  },
  {
   "cell_type": "code",
   "execution_count": null,
   "id": "075c8822",
   "metadata": {},
   "outputs": [],
   "source": []
  }
 ],
 "metadata": {
  "kernelspec": {
   "display_name": "Python 3 (ipykernel)",
   "language": "python",
   "name": "python3"
  },
  "language_info": {
   "codemirror_mode": {
    "name": "ipython",
    "version": 3
   },
   "file_extension": ".py",
   "mimetype": "text/x-python",
   "name": "python",
   "nbconvert_exporter": "python",
   "pygments_lexer": "ipython3",
   "version": "3.9.13"
  }
 },
 "nbformat": 4,
 "nbformat_minor": 5
}
