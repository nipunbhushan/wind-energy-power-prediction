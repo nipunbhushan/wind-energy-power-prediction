{
 "cells": [
  {
   "cell_type": "markdown",
   "id": "3e792b4f",
   "metadata": {},
   "source": [
    "### Load Libraries"
   ]
  },
  {
   "cell_type": "code",
   "execution_count": 57,
   "id": "2c6b3180",
   "metadata": {},
   "outputs": [],
   "source": [
    "import requests\n",
    "import pandas as pd\n",
    "from time import sleep\n",
    "from random import randint\n",
    "from datetime import datetime\n",
    "from datetime import timedelta"
   ]
  },
  {
   "cell_type": "markdown",
   "id": "5da20fb1",
   "metadata": {},
   "source": [
    "### Parameters"
   ]
  },
  {
   "cell_type": "code",
   "execution_count": 58,
   "id": "fb36b713",
   "metadata": {},
   "outputs": [],
   "source": [
    "offset = 8\n",
    "duration = 30\n",
    "sleep_time = 3"
   ]
  },
  {
   "cell_type": "code",
   "execution_count": 59,
   "id": "84fd44f2",
   "metadata": {},
   "outputs": [],
   "source": [
    "param_details = {\n",
    "            'PS':('Surface Pressure','surf_press'),\n",
    "            'WS10M':('Wind Speed at 10 Meters','wnd_spd_10m'),\n",
    "            'WS50M':('Wind Speed at 50 Meters','wnd_spd_50m'),\n",
    "            'WD10M':('Wind Direction at 10 Meters','wnd_dir_10m'),\n",
    "            'WD50M':('Wind Direction at 50 Meters','wnd_dir_50m'),\n",
    "            'QV2M':('Specific Humidity at 2 Meters','spc_hmd_2m'),\n",
    "            'RH2M':('Relative Humidity at 2 Meters','rel_hmd_2m'),\n",
    "            'PRECIPITATIONCAL':('Precipitation','precip'),\n",
    "            'T2M':('Temperature at 2 Meters','temp_2m'),\n",
    "            'T2MDEW':('Dew/Frost Point at 2 Meters','dew_frst_2m'),\n",
    "            'T2MWET':('Wet Bulb Temperature at 2 Meters','wet_temp_2m'),\n",
    "            'TS':('Earth Skin Temperature','earth_temp')\n",
    "            }"
   ]
  },
  {
   "cell_type": "markdown",
   "id": "01b636c1",
   "metadata": {},
   "source": [
    "### Function Definitions"
   ]
  },
  {
   "cell_type": "code",
   "execution_count": 60,
   "id": "ef0ab526",
   "metadata": {},
   "outputs": [],
   "source": [
    "def bring_col_to_front(df,cols_to_reorder):\n",
    "    original_columns=list(df.columns)\n",
    "    cols_to_reorder.reverse()\n",
    "    for reorder_col in cols_to_reorder:\n",
    "        original_columns.insert(0, original_columns.pop(original_columns.index(reorder_col)))\n",
    "    return df[original_columns]"
   ]
  },
  {
   "cell_type": "code",
   "execution_count": 61,
   "id": "b0361534",
   "metadata": {},
   "outputs": [],
   "source": [
    "def format_params(param_list):\n",
    "    return '%2C'.join(param_list)"
   ]
  },
  {
   "cell_type": "code",
   "execution_count": 62,
   "id": "e8908898",
   "metadata": {},
   "outputs": [],
   "source": [
    "def rand_sleep(max_sec):\n",
    "    sleep((randint(1,max_sec*1000))/1000)"
   ]
  },
  {
   "cell_type": "code",
   "execution_count": 63,
   "id": "bf3abd9a",
   "metadata": {},
   "outputs": [],
   "source": [
    "def generate_url(start_date,end_date,latitude,longitude,parameters):\n",
    "    return \"https://power.larc.nasa.gov/api/temporal/daily/point?\"\\\n",
    "                                                +\"start=\"+str(start_date)\\\n",
    "                                                +\"&end=\"+str(end_date)\\\n",
    "                                                +\"&latitude=\"+str(latitude)\\\n",
    "                                                +\"&longitude=\"+str(longitude)\\\n",
    "                                                +\"&community=re&parameters=\"+parameters\\\n",
    "                                                +\"&format=json&header=true&time-standard=utc\""
   ]
  },
  {
   "cell_type": "code",
   "execution_count": 64,
   "id": "631a867c",
   "metadata": {},
   "outputs": [],
   "source": [
    "def get_start_end_date(offset,duration):\n",
    "    return (datetime.now() - timedelta(days = (offset+duration))).strftime(\"%Y%m%d\"), (datetime.now() - timedelta(days = offset)).strftime(\"%Y%m%d\")"
   ]
  },
  {
   "cell_type": "code",
   "execution_count": 65,
   "id": "1f5c23a5",
   "metadata": {},
   "outputs": [],
   "source": [
    "def get_weather_info(latitude,longitude):\n",
    "    start_date, end_date = get_start_end_date(offset,duration)\n",
    "    parameters = format_params(list(param_details.keys()))\n",
    "    url = generate_url(start_date,end_date,latitude,longitude,parameters)\n",
    "    response = requests.get(url)\n",
    "    if(response.status_code == 200):\n",
    "        print(\"Fetching weather info for: \",latitude,\",\",longitude,\"..\")\n",
    "        results = response.json()\n",
    "        df_weather_info=pd.DataFrame.from_dict(results['properties']['parameter'], orient='index').T\n",
    "        df_weather_info['latitude']=results['geometry']['coordinates'][1]\n",
    "        df_weather_info['longitude']=results['geometry']['coordinates'][0]\n",
    "        df_weather_info=bring_col_to_front(df_weather_info,['latitude','longitude'])\n",
    "        df_weather_info=df_weather_info.reset_index(drop=True)\n",
    "        df_mean_weather_info = pd.DataFrame(columns=['latitude',\n",
    "                                     'longitude',\n",
    "                                     'PS',\n",
    "                                     'WS10M',\n",
    "                                     'WS50M',\n",
    "                                     'WD10M',\n",
    "                                     'WD50M',\n",
    "                                     'QV2M',\n",
    "                                     'RH2M',\n",
    "                                     'PRECIPITATIONCAL',\n",
    "                                     'T2M',\n",
    "                                     'T2MDEW',\n",
    "                                     'T2MWET',\n",
    "                                     'TS'])\n",
    "        \n",
    "        df_mean_weather_dict={}\n",
    "        for col in df_weather_info.columns:\n",
    "            df_mean_weather_dict[col]=[df_weather_info[col].mean()]\n",
    "        return pd.DataFrame.from_dict(df_mean_weather_dict)\n",
    "    else:\n",
    "        print(\"Bad response. Check the URL again.\")"
   ]
  },
  {
   "cell_type": "markdown",
   "id": "c08a84de",
   "metadata": {},
   "source": [
    "### Main Execution Block"
   ]
  },
  {
   "cell_type": "code",
   "execution_count": 66,
   "id": "19c65851",
   "metadata": {},
   "outputs": [],
   "source": [
    "df_wndfrm_power_info=pd.read_csv(\"output_files/windfarms_power_stats.csv\")"
   ]
  },
  {
   "cell_type": "code",
   "execution_count": 67,
   "id": "bfd8645c",
   "metadata": {},
   "outputs": [],
   "source": [
    "df_wndfrm_power_info = df_wndfrm_power_info[df_wndfrm_power_info['windfarm_power']>0]"
   ]
  },
  {
   "cell_type": "code",
   "execution_count": null,
   "id": "9089f995",
   "metadata": {
    "scrolled": true
   },
   "outputs": [],
   "source": [
    "df_wndfrm_weather_info = pd.DataFrame(columns=['latitude',\n",
    "                             'longitude',\n",
    "                             'PS',\n",
    "                             'WS10M',\n",
    "                             'WS50M',\n",
    "                             'WD10M',\n",
    "                             'WD50M',\n",
    "                             'QV2M',\n",
    "                             'RH2M',\n",
    "                             'PRECIPITATIONCAL',\n",
    "                             'T2M',\n",
    "                             'T2MDEW',\n",
    "                             'T2MWET',\n",
    "                             'TS'])\n",
    "\n",
    "for index, row in df_wndfrm_power_info.iterrows():\n",
    "    df_wndfrm_weather_info = pd.concat([df_wndfrm_weather_info,get_weather_info(row['latitude'],row['longitude'])],axis=0)\n",
    "    rand_sleep(sleep_time)"
   ]
  },
  {
   "cell_type": "code",
   "execution_count": 70,
   "id": "c6c84391",
   "metadata": {},
   "outputs": [],
   "source": [
    "df_wndfrm_dataset=pd.concat([df_wndfrm_weather_info.reset_index(drop=True),df_wndfrm_power_info.drop(['latitude','longitude','windfarm_name'],axis=1)],axis=1)\n",
    "df_wndfrm_dataset.to_csv(\"output_files/df_wndfrm_dataset.csv\",index=False)"
   ]
  }
 ],
 "metadata": {
  "kernelspec": {
   "display_name": "Python 3 (ipykernel)",
   "language": "python",
   "name": "python3"
  },
  "language_info": {
   "codemirror_mode": {
    "name": "ipython",
    "version": 3
   },
   "file_extension": ".py",
   "mimetype": "text/x-python",
   "name": "python",
   "nbconvert_exporter": "python",
   "pygments_lexer": "ipython3",
   "version": "3.9.13"
  }
 },
 "nbformat": 4,
 "nbformat_minor": 5
}
